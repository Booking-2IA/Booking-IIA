{
 "cells": [
  {
   "cell_type": "code",
   "execution_count": 1,
   "id": "9b01a9af",
   "metadata": {},
   "outputs": [],
   "source": [
    "import numpy as np\n",
    "import os\n",
    "import matplotlib.pyplot as plt             \n",
    "import cv2\n",
    "import tensorflow as tf    \n",
    "from tqdm import tqdm\n",
    "from sklearn.utils import shuffle \n",
    "import keras\n",
    "from keras.utils.np_utils import to_categorical\n",
    "from keras.models import Sequential\n",
    "from keras.layers import Conv2D, MaxPooling2D, Flatten, Dense,Dropout"
   ]
  },
  {
   "cell_type": "code",
   "execution_count": 2,
   "id": "33e98334",
   "metadata": {},
   "outputs": [
    {
     "name": "stdout",
     "output_type": "stream",
     "text": [
      "8\n",
      "0\n"
     ]
    }
   ],
   "source": [
    "class_names = ['Bab chellah Rabat', 'Bab Lahdim Meknes', 'Hassan Rabat', 'Hassan2 Mosque', 'koutoubia Marrakech', 'Menara Marrakech','Palais Royal de Fes', 'Tannerie Chouara']\n",
    "class_names_label = {class_name:i for i, class_name in enumerate(class_names)}\n",
    "nb_classes = len(class_names)\n",
    "print(nb_classes)\n",
    "IMAGE_SIZE = (224, 224)\n",
    "print(class_names_label['Bab chellah Rabat'])"
   ]
  },
  {
   "cell_type": "code",
   "execution_count": 3,
   "id": "e0e4f7ac",
   "metadata": {},
   "outputs": [],
   "source": [
    "data_dir = 'dataset' \n",
    "image_exts = ['jpeg','jpg', 'bmp', 'png']"
   ]
  },
  {
   "cell_type": "code",
   "execution_count": 4,
   "id": "54b92c7d",
   "metadata": {},
   "outputs": [
    {
     "name": "stdout",
     "output_type": "stream",
     "text": [
      "Issue with image dataset\\train\\.ipynb_checkpoints\n",
      "Issue with image dataset\\train\\Bab Chellah Rabat\n",
      "Issue with image dataset\\train\\Bab Lahdim Meknes\n",
      "Issue with image dataset\\train\\Hassan Rabat\n",
      "Issue with image dataset\\train\\Hassan2 Mosque\n",
      "Issue with image dataset\\train\\koutoubia Marrakech\n",
      "Issue with image dataset\\train\\Menara Marrakech\n",
      "Issue with image dataset\\train\\Palais Royal de Fes\n",
      "Issue with image dataset\\train\\Tannerie Chouara\n",
      "Issue with image dataset\\valid\\.ipynb_checkpoints\n",
      "Issue with image dataset\\valid\\Bab Chellah Rabat\n",
      "Issue with image dataset\\valid\\Bab Lahdim Meknes\n",
      "Issue with image dataset\\valid\\Hassan Rabat\n",
      "Issue with image dataset\\valid\\Hassan2 Mosque\n",
      "Issue with image dataset\\valid\\koutoubia Marrakech\n",
      "Issue with image dataset\\valid\\Menara Marrakech\n",
      "Issue with image dataset\\valid\\Palais Royal de Fes\n",
      "Issue with image dataset\\valid\\Tannerie Chouara\n"
     ]
    }
   ],
   "source": [
    "for image_class in os.listdir(data_dir): \n",
    "    for image in os.listdir(os.path.join(data_dir, image_class)):\n",
    "        image_path = os.path.join(data_dir, image_class, image)\n",
    "        try: \n",
    "            img = cv2.imread(image_path)\n",
    "            tip = imghdr.what(image_path)\n",
    "            if tip not in image_exts: \n",
    "                print('Image not in ext list {}'.format(image_path))\n",
    "                os.remove(image_path)\n",
    "        except Exception as e: \n",
    "            print('Issue with image {}'.format(image_path))"
   ]
  },
  {
   "cell_type": "code",
   "execution_count": 5,
   "id": "1d2c5727",
   "metadata": {},
   "outputs": [],
   "source": [
    "def load_data():\n",
    "\n",
    "    datasets = ['dataset/train', 'dataset/valid']\n",
    "    output = []\n",
    "    \n",
    "    # Iterate through training and test sets\n",
    "    for dataset in datasets:\n",
    "        \n",
    "        images = []\n",
    "        labels = []\n",
    "        c=0\n",
    "        print(\"Loading {}\".format(dataset))\n",
    "        \n",
    "        # Iterate through each folder corresponding to a category\n",
    "        for folder in os.listdir(dataset):\n",
    "            label = c\n",
    "            c+=1\n",
    "            \n",
    "            # Iterate through each image in our folder\n",
    "            for file in tqdm(os.listdir(os.path.join(dataset, folder))):\n",
    "                \n",
    "                # Get the path name of the image\n",
    "                img_path = os.path.join(os.path.join(dataset, folder), file)\n",
    "                \n",
    "                # Open and resize the img\n",
    "                image = cv2.imread(img_path)\n",
    "                image = cv2.cvtColor(image, cv2.COLOR_BGR2RGB)\n",
    "                image = cv2.resize(image, IMAGE_SIZE) \n",
    "                \n",
    "                # Append the image and its corresponding label to the output\n",
    "                images.append(image)\n",
    "                labels.append(label)\n",
    "                \n",
    "        images = np.array(images, dtype = 'float32')\n",
    "        labels = np.array(labels, dtype = 'int32')   \n",
    "        \n",
    "        output.append((images, labels))\n",
    "\n",
    "    return output"
   ]
  },
  {
   "cell_type": "code",
   "execution_count": 6,
   "id": "8e8f9a85",
   "metadata": {},
   "outputs": [
    {
     "name": "stdout",
     "output_type": "stream",
     "text": [
      "Loading dataset/train\n"
     ]
    },
    {
     "name": "stderr",
     "output_type": "stream",
     "text": [
      "0it [00:00, ?it/s]\n",
      "100%|████████████████████████████████████████████████████████████████████████████████| 129/129 [00:01<00:00, 81.30it/s]\n",
      "100%|████████████████████████████████████████████████████████████████████████████████| 168/168 [00:01<00:00, 89.39it/s]\n",
      "100%|███████████████████████████████████████████████████████████████████████████████| 162/162 [00:01<00:00, 104.11it/s]\n",
      "100%|█████████████████████████████████████████████████████████████████████████████████| 86/86 [00:00<00:00, 110.52it/s]\n",
      "100%|███████████████████████████████████████████████████████████████████████████████| 192/192 [00:01<00:00, 100.37it/s]\n",
      "100%|███████████████████████████████████████████████████████████████████████████████| 270/270 [00:02<00:00, 105.21it/s]\n",
      "100%|████████████████████████████████████████████████████████████████████████████████| 279/279 [00:04<00:00, 66.71it/s]\n",
      "100%|████████████████████████████████████████████████████████████████████████████████| 441/441 [00:04<00:00, 89.39it/s]\n"
     ]
    },
    {
     "name": "stdout",
     "output_type": "stream",
     "text": [
      "Loading dataset/valid\n"
     ]
    },
    {
     "name": "stderr",
     "output_type": "stream",
     "text": [
      "0it [00:00, ?it/s]\n",
      "100%|██████████████████████████████████████████████████████████████████████████████████| 17/17 [00:00<00:00, 99.60it/s]\n",
      "100%|██████████████████████████████████████████████████████████████████████████████████| 22/22 [00:00<00:00, 99.94it/s]\n",
      "100%|█████████████████████████████████████████████████████████████████████████████████| 22/22 [00:00<00:00, 103.47it/s]\n",
      "100%|█████████████████████████████████████████████████████████████████████████████████| 16/16 [00:00<00:00, 102.49it/s]\n",
      "100%|██████████████████████████████████████████████████████████████████████████████████| 26/26 [00:00<00:00, 98.29it/s]\n",
      "100%|██████████████████████████████████████████████████████████████████████████████████| 18/18 [00:00<00:00, 92.57it/s]\n",
      "100%|██████████████████████████████████████████████████████████████████████████████████| 35/35 [00:00<00:00, 88.07it/s]\n",
      "100%|██████████████████████████████████████████████████████████████████████████████████| 41/41 [00:00<00:00, 91.77it/s]\n"
     ]
    }
   ],
   "source": [
    "(train_images, train_labels), (test_images, test_labels) = load_data()"
   ]
  },
  {
   "cell_type": "code",
   "execution_count": 7,
   "id": "bda08d60",
   "metadata": {},
   "outputs": [
    {
     "data": {
      "text/plain": [
       "1727"
      ]
     },
     "execution_count": 7,
     "metadata": {},
     "output_type": "execute_result"
    }
   ],
   "source": [
    "len(train_images)"
   ]
  },
  {
   "cell_type": "code",
   "execution_count": 8,
   "id": "015b3744",
   "metadata": {},
   "outputs": [],
   "source": [
    "train_labels=train_labels.reshape(len(train_images),1)\n",
    "test_labels=test_labels.reshape(len(test_images),1)"
   ]
  },
  {
   "cell_type": "code",
   "execution_count": 9,
   "id": "be1a3c2a",
   "metadata": {},
   "outputs": [
    {
     "data": {
      "text/plain": [
       "(197, 1)"
      ]
     },
     "execution_count": 9,
     "metadata": {},
     "output_type": "execute_result"
    }
   ],
   "source": [
    "test_labels.shape"
   ]
  },
  {
   "cell_type": "code",
   "execution_count": 10,
   "id": "980f8212",
   "metadata": {},
   "outputs": [
    {
     "data": {
      "text/plain": [
       "(197, 224, 224, 3)"
      ]
     },
     "execution_count": 10,
     "metadata": {},
     "output_type": "execute_result"
    }
   ],
   "source": [
    "test_images.shape"
   ]
  },
  {
   "cell_type": "code",
   "execution_count": 11,
   "id": "491c9303",
   "metadata": {},
   "outputs": [
    {
     "data": {
      "text/plain": [
       "(1727, 9)"
      ]
     },
     "execution_count": 11,
     "metadata": {},
     "output_type": "execute_result"
    }
   ],
   "source": [
    "label=to_categorical(train_labels)\n",
    "label.shape"
   ]
  },
  {
   "cell_type": "code",
   "execution_count": 12,
   "id": "6ea71493",
   "metadata": {},
   "outputs": [
    {
     "data": {
      "text/plain": [
       "(197, 9)"
      ]
     },
     "execution_count": 12,
     "metadata": {},
     "output_type": "execute_result"
    }
   ],
   "source": [
    "label_t=to_categorical(test_labels)\n",
    "label_t.shape"
   ]
  },
  {
   "cell_type": "code",
   "execution_count": 13,
   "id": "e6a6eb54",
   "metadata": {},
   "outputs": [],
   "source": [
    "train_images = train_images / 255.0 \n",
    "test_images = test_images / 255.0"
   ]
  },
  {
   "cell_type": "code",
   "execution_count": 14,
   "id": "a13fef66",
   "metadata": {},
   "outputs": [
    {
     "data": {
      "text/plain": [
       "(224, 224, 3)"
      ]
     },
     "execution_count": 14,
     "metadata": {},
     "output_type": "execute_result"
    }
   ],
   "source": [
    "train_images.shape[1:]"
   ]
  },
  {
   "cell_type": "code",
   "execution_count": 15,
   "id": "35d74f62",
   "metadata": {},
   "outputs": [],
   "source": [
    "model = Sequential()"
   ]
  },
  {
   "cell_type": "code",
   "execution_count": 16,
   "id": "10954dc1",
   "metadata": {},
   "outputs": [],
   "source": [
    "model.add(Conv2D(32, (3, 3), activation='relu', padding='same',input_shape=(224, 224, 3)))\n",
    "model.add(MaxPooling2D((2, 2)))\n",
    "model.add(Dropout(0.2))\n",
    "model.add(Conv2D(64, (3, 3),padding='same', activation='relu'))\n",
    "model.add(MaxPooling2D((2, 2)))\n",
    "model.add(Dropout(0.2))\n",
    "model.add(Conv2D(128, (3, 3), padding='same',activation='relu'))\n",
    "model.add(MaxPooling2D((2, 2)))\n",
    "model.add(Dropout(0.3))\n",
    "model.add(Conv2D(256, (3, 3), padding='same',activation='relu'))\n",
    "model.add(MaxPooling2D((2, 2)))\n",
    "model.add(Dropout(0.4))\n",
    "model.add(Conv2D(512, (3, 3), padding='same',activation='relu'))\n",
    "model.add(MaxPooling2D((2, 2)))\n",
    "model.add(Dropout(0.5))\n",
    "model.add(Conv2D(1024, (3, 3), padding='same',activation='relu'))\n",
    "model.add(MaxPooling2D((2, 2)))\n",
    "model.add(Dropout(0.5))\n",
    "model.add(Flatten())\n",
    "model.add(Dense(9, activation='softmax'))\n",
    "\n",
    "# Compile the model\n",
    "model.compile(loss='categorical_crossentropy', optimizer='adam', metrics=['accuracy'])"
   ]
  },
  {
   "cell_type": "code",
   "execution_count": 17,
   "id": "e5c2e779",
   "metadata": {},
   "outputs": [
    {
     "name": "stdout",
     "output_type": "stream",
     "text": [
      "Model: \"sequential\"\n",
      "_________________________________________________________________\n",
      " Layer (type)                Output Shape              Param #   \n",
      "=================================================================\n",
      " conv2d (Conv2D)             (None, 224, 224, 32)      896       \n",
      "                                                                 \n",
      " max_pooling2d (MaxPooling2D  (None, 112, 112, 32)     0         \n",
      " )                                                               \n",
      "                                                                 \n",
      " dropout (Dropout)           (None, 112, 112, 32)      0         \n",
      "                                                                 \n",
      " conv2d_1 (Conv2D)           (None, 112, 112, 64)      18496     \n",
      "                                                                 \n",
      " max_pooling2d_1 (MaxPooling  (None, 56, 56, 64)       0         \n",
      " 2D)                                                             \n",
      "                                                                 \n",
      " dropout_1 (Dropout)         (None, 56, 56, 64)        0         \n",
      "                                                                 \n",
      " conv2d_2 (Conv2D)           (None, 56, 56, 128)       73856     \n",
      "                                                                 \n",
      " max_pooling2d_2 (MaxPooling  (None, 28, 28, 128)      0         \n",
      " 2D)                                                             \n",
      "                                                                 \n",
      " dropout_2 (Dropout)         (None, 28, 28, 128)       0         \n",
      "                                                                 \n",
      " conv2d_3 (Conv2D)           (None, 28, 28, 256)       295168    \n",
      "                                                                 \n",
      " max_pooling2d_3 (MaxPooling  (None, 14, 14, 256)      0         \n",
      " 2D)                                                             \n",
      "                                                                 \n",
      " dropout_3 (Dropout)         (None, 14, 14, 256)       0         \n",
      "                                                                 \n",
      " conv2d_4 (Conv2D)           (None, 14, 14, 512)       1180160   \n",
      "                                                                 \n",
      " max_pooling2d_4 (MaxPooling  (None, 7, 7, 512)        0         \n",
      " 2D)                                                             \n",
      "                                                                 \n",
      " dropout_4 (Dropout)         (None, 7, 7, 512)         0         \n",
      "                                                                 \n",
      " conv2d_5 (Conv2D)           (None, 7, 7, 1024)        4719616   \n",
      "                                                                 \n",
      " max_pooling2d_5 (MaxPooling  (None, 3, 3, 1024)       0         \n",
      " 2D)                                                             \n",
      "                                                                 \n",
      " dropout_5 (Dropout)         (None, 3, 3, 1024)        0         \n",
      "                                                                 \n",
      " flatten (Flatten)           (None, 9216)              0         \n",
      "                                                                 \n",
      " dense (Dense)               (None, 9)                 82953     \n",
      "                                                                 \n",
      "=================================================================\n",
      "Total params: 6,371,145\n",
      "Trainable params: 6,371,145\n",
      "Non-trainable params: 0\n",
      "_________________________________________________________________\n"
     ]
    }
   ],
   "source": [
    "model.summary()"
   ]
  },
  {
   "cell_type": "code",
   "execution_count": 18,
   "id": "864ba991",
   "metadata": {},
   "outputs": [],
   "source": [
    "model.compile(optimizer='sgd',loss='categorical_crossentropy',metrics=['accuracy'])"
   ]
  },
  {
   "cell_type": "code",
   "execution_count": 20,
   "id": "97ad3d51",
   "metadata": {},
   "outputs": [
    {
     "name": "stdout",
     "output_type": "stream",
     "text": [
      "Epoch 1/80\n",
      "54/54 [==============================] - 226s 4s/step - loss: 2.0101 - accuracy: 0.2432 - val_loss: 2.1520 - val_accuracy: 0.2183\n",
      "Epoch 2/80\n",
      "54/54 [==============================] - 234s 4s/step - loss: 1.9422 - accuracy: 0.2640 - val_loss: 2.1171 - val_accuracy: 0.2183\n",
      "Epoch 3/80\n",
      "54/54 [==============================] - 206s 4s/step - loss: 1.8332 - accuracy: 0.3092 - val_loss: 2.0464 - val_accuracy: 0.2538\n",
      "Epoch 4/80\n",
      "54/54 [==============================] - 200s 4s/step - loss: 1.6830 - accuracy: 0.3862 - val_loss: 2.0248 - val_accuracy: 0.2893\n",
      "Epoch 5/80\n",
      "54/54 [==============================] - 199s 4s/step - loss: 1.5673 - accuracy: 0.4221 - val_loss: 2.1393 - val_accuracy: 0.1421\n",
      "Epoch 6/80\n",
      "54/54 [==============================] - 200s 4s/step - loss: 1.5086 - accuracy: 0.4540 - val_loss: 1.9021 - val_accuracy: 0.3604\n",
      "Epoch 7/80\n",
      "54/54 [==============================] - 208s 4s/step - loss: 1.4095 - accuracy: 0.4754 - val_loss: 1.8524 - val_accuracy: 0.4112\n",
      "Epoch 8/80\n",
      "54/54 [==============================] - 202s 4s/step - loss: 1.4127 - accuracy: 0.4951 - val_loss: 1.8134 - val_accuracy: 0.3858\n",
      "Epoch 9/80\n",
      "54/54 [==============================] - 201s 4s/step - loss: 1.3220 - accuracy: 0.5298 - val_loss: 1.8144 - val_accuracy: 0.4010\n",
      "Epoch 10/80\n",
      "54/54 [==============================] - 213s 4s/step - loss: 1.2359 - accuracy: 0.5657 - val_loss: 1.7967 - val_accuracy: 0.4315\n",
      "Epoch 11/80\n",
      "54/54 [==============================] - 211s 4s/step - loss: 1.2305 - accuracy: 0.5588 - val_loss: 1.7259 - val_accuracy: 0.4416\n",
      "Epoch 12/80\n",
      "54/54 [==============================] - 196s 4s/step - loss: 1.1479 - accuracy: 0.5958 - val_loss: 1.6825 - val_accuracy: 0.4721\n",
      "Epoch 13/80\n",
      "54/54 [==============================] - 197s 4s/step - loss: 1.0998 - accuracy: 0.6016 - val_loss: 1.7359 - val_accuracy: 0.3807\n",
      "Epoch 14/80\n",
      "54/54 [==============================] - 195s 4s/step - loss: 1.0939 - accuracy: 0.6126 - val_loss: 1.6355 - val_accuracy: 0.4924\n",
      "Epoch 15/80\n",
      "54/54 [==============================] - 196s 4s/step - loss: 1.0717 - accuracy: 0.6248 - val_loss: 1.6420 - val_accuracy: 0.4721\n",
      "Epoch 16/80\n",
      "54/54 [==============================] - 201s 4s/step - loss: 1.0199 - accuracy: 0.6346 - val_loss: 1.6227 - val_accuracy: 0.4975\n",
      "Epoch 17/80\n",
      "54/54 [==============================] - 204s 4s/step - loss: 1.0098 - accuracy: 0.6439 - val_loss: 1.5953 - val_accuracy: 0.5127\n",
      "Epoch 18/80\n",
      "54/54 [==============================] - 207s 4s/step - loss: 0.9542 - accuracy: 0.6526 - val_loss: 1.5919 - val_accuracy: 0.4619\n",
      "Epoch 19/80\n",
      "54/54 [==============================] - 196s 4s/step - loss: 0.9247 - accuracy: 0.6723 - val_loss: 1.5699 - val_accuracy: 0.5178\n",
      "Epoch 20/80\n",
      "54/54 [==============================] - 194s 4s/step - loss: 0.9020 - accuracy: 0.6821 - val_loss: 1.5402 - val_accuracy: 0.5330\n",
      "Epoch 21/80\n",
      "54/54 [==============================] - 193s 4s/step - loss: 0.8557 - accuracy: 0.6885 - val_loss: 1.5170 - val_accuracy: 0.5330\n",
      "Epoch 22/80\n",
      "54/54 [==============================] - 198s 4s/step - loss: 0.8618 - accuracy: 0.6885 - val_loss: 1.5169 - val_accuracy: 0.4975\n",
      "Epoch 23/80\n",
      "54/54 [==============================] - 198s 4s/step - loss: 0.8388 - accuracy: 0.6914 - val_loss: 1.5165 - val_accuracy: 0.5482\n",
      "Epoch 24/80\n",
      "54/54 [==============================] - 200s 4s/step - loss: 0.7870 - accuracy: 0.7128 - val_loss: 1.4856 - val_accuracy: 0.5330\n",
      "Epoch 25/80\n",
      "54/54 [==============================] - 196s 4s/step - loss: 0.7343 - accuracy: 0.7313 - val_loss: 1.4285 - val_accuracy: 0.5482\n",
      "Epoch 26/80\n",
      "54/54 [==============================] - 199s 4s/step - loss: 0.7705 - accuracy: 0.7215 - val_loss: 1.5017 - val_accuracy: 0.5736\n",
      "Epoch 27/80\n",
      "54/54 [==============================] - 195s 4s/step - loss: 0.7041 - accuracy: 0.7412 - val_loss: 1.4214 - val_accuracy: 0.5381\n",
      "Epoch 28/80\n",
      "54/54 [==============================] - 197s 4s/step - loss: 0.7040 - accuracy: 0.7464 - val_loss: 1.4358 - val_accuracy: 0.5228\n",
      "Epoch 29/80\n",
      "54/54 [==============================] - 194s 4s/step - loss: 0.6846 - accuracy: 0.7603 - val_loss: 1.3630 - val_accuracy: 0.5685\n",
      "Epoch 30/80\n",
      "54/54 [==============================] - 203s 4s/step - loss: 0.6320 - accuracy: 0.7811 - val_loss: 1.3656 - val_accuracy: 0.5482\n",
      "Epoch 31/80\n",
      "54/54 [==============================] - 191s 4s/step - loss: 0.6312 - accuracy: 0.7736 - val_loss: 1.3613 - val_accuracy: 0.5635\n",
      "Epoch 32/80\n",
      "54/54 [==============================] - 189s 4s/step - loss: 0.5860 - accuracy: 0.7858 - val_loss: 1.3220 - val_accuracy: 0.5838\n",
      "Epoch 33/80\n",
      "54/54 [==============================] - 190s 4s/step - loss: 0.5649 - accuracy: 0.7944 - val_loss: 1.3208 - val_accuracy: 0.5482\n",
      "Epoch 34/80\n",
      "54/54 [==============================] - 187s 3s/step - loss: 0.5892 - accuracy: 0.7985 - val_loss: 1.3793 - val_accuracy: 0.5939\n",
      "Epoch 35/80\n",
      "54/54 [==============================] - 189s 4s/step - loss: 0.5114 - accuracy: 0.8274 - val_loss: 1.3009 - val_accuracy: 0.5990\n",
      "Epoch 36/80\n",
      "54/54 [==============================] - 187s 3s/step - loss: 0.5165 - accuracy: 0.8251 - val_loss: 1.2818 - val_accuracy: 0.5533\n",
      "Epoch 37/80\n",
      "54/54 [==============================] - 200s 4s/step - loss: 0.4711 - accuracy: 0.8344 - val_loss: 1.2783 - val_accuracy: 0.5736\n",
      "Epoch 38/80\n",
      "54/54 [==============================] - 197s 4s/step - loss: 0.4441 - accuracy: 0.8547 - val_loss: 1.2954 - val_accuracy: 0.5635\n",
      "Epoch 39/80\n",
      "54/54 [==============================] - 190s 4s/step - loss: 0.4440 - accuracy: 0.8402 - val_loss: 1.2870 - val_accuracy: 0.5787\n",
      "Epoch 40/80\n",
      "54/54 [==============================] - 188s 3s/step - loss: 0.4202 - accuracy: 0.8500 - val_loss: 1.2777 - val_accuracy: 0.6294\n",
      "Epoch 41/80\n",
      "54/54 [==============================] - 191s 4s/step - loss: 0.3782 - accuracy: 0.8715 - val_loss: 1.2563 - val_accuracy: 0.5990\n",
      "Epoch 42/80\n",
      "54/54 [==============================] - 188s 3s/step - loss: 0.3878 - accuracy: 0.8738 - val_loss: 1.2743 - val_accuracy: 0.5990\n",
      "Epoch 43/80\n",
      "54/54 [==============================] - 188s 3s/step - loss: 0.3419 - accuracy: 0.8888 - val_loss: 1.2680 - val_accuracy: 0.5787\n",
      "Epoch 44/80\n",
      "54/54 [==============================] - 186s 3s/step - loss: 0.3897 - accuracy: 0.8674 - val_loss: 1.2540 - val_accuracy: 0.6142\n",
      "Epoch 45/80\n",
      "54/54 [==============================] - 190s 4s/step - loss: 0.3152 - accuracy: 0.8964 - val_loss: 1.3144 - val_accuracy: 0.6142\n",
      "Epoch 46/80\n",
      "54/54 [==============================] - 187s 3s/step - loss: 0.3364 - accuracy: 0.8825 - val_loss: 1.2480 - val_accuracy: 0.5990\n",
      "Epoch 47/80\n",
      "54/54 [==============================] - 188s 3s/step - loss: 0.3046 - accuracy: 0.9004 - val_loss: 1.2764 - val_accuracy: 0.6142\n",
      "Epoch 48/80\n",
      "54/54 [==============================] - 188s 3s/step - loss: 0.3151 - accuracy: 0.8894 - val_loss: 1.2053 - val_accuracy: 0.6244\n",
      "Epoch 49/80\n",
      "54/54 [==============================] - 189s 4s/step - loss: 0.2806 - accuracy: 0.9056 - val_loss: 1.2755 - val_accuracy: 0.6142\n",
      "Epoch 50/80\n",
      "54/54 [==============================] - 194s 4s/step - loss: 0.2841 - accuracy: 0.8998 - val_loss: 1.2557 - val_accuracy: 0.6142\n",
      "Epoch 51/80\n",
      "54/54 [==============================] - 187s 3s/step - loss: 0.2614 - accuracy: 0.9091 - val_loss: 1.2942 - val_accuracy: 0.6193\n",
      "Epoch 52/80\n",
      "54/54 [==============================] - 189s 3s/step - loss: 0.2449 - accuracy: 0.9166 - val_loss: 1.3243 - val_accuracy: 0.6142\n",
      "Epoch 53/80\n",
      "54/54 [==============================] - 189s 4s/step - loss: 0.2352 - accuracy: 0.9201 - val_loss: 1.2728 - val_accuracy: 0.6142\n"
     ]
    }
   ],
   "source": [
    "from keras.callbacks import EarlyStopping\n",
    "early_stopping_monitor=EarlyStopping(patience=5)\n",
    "hist=model.fit(train_images,label,epochs=80,callbacks=[early_stopping_monitor],validation_data=(test_images,label_t))"
   ]
  },
  {
   "cell_type": "code",
   "execution_count": 21,
   "id": "deab9995",
   "metadata": {},
   "outputs": [
    {
     "data": {
      "image/png": "[encoded data removed]",
      "text/plain": [
       "<Figure size 432x288 with 1 Axes>"
      ]
     },
     "metadata": {
      "needs_background": "light"
     },
     "output_type": "display_data"
    },
    {
     "data": {
      "image/png": "[encoded data removed]",
      "text/plain": [
       "<Figure size 432x288 with 1 Axes>"
      ]
     },
     "metadata": {
      "needs_background": "light"
     },
     "output_type": "display_data"
    }
   ],
   "source": [
    "plt.plot(hist.history['accuracy'])\n",
    "plt.plot(hist.history['val_accuracy'])\n",
    "plt.title('model accuracy')\n",
    "plt.ylabel('accuracy')\n",
    "plt.xlabel('epoch')\n",
    "plt.legend(['train','test'],loc='upper left')\n",
    "plt.savefig('model accuracy.png')\n",
    "plt.show()\n",
    "#loss\n",
    "plt.plot(hist.history['loss'])\n",
    "plt.plot(hist.history['val_loss'])\n",
    "plt.title('model loss')\n",
    "plt.ylabel('loss')\n",
    "plt.xlabel('epoch')\n",
    "plt.legend(['train','test'],loc='upper left')\n",
    "plt.savefig('model loss.png')\n",
    "plt.show()"
   ]
  },
  {
   "cell_type": "code",
   "execution_count": 22,
   "id": "1ed5d5db",
   "metadata": {},
   "outputs": [
    {
     "data": {
      "text/plain": [
       "['Bab chellah Rabat',\n",
       " 'Bab Lahdim Meknes',\n",
       " 'Hassan Rabat',\n",
       " 'Hassan2 Mosque',\n",
       " 'koutoubia Marrakech',\n",
       " 'Menara Marrakech',\n",
       " 'Palais Royal de Fes',\n",
       " 'Tannerie Chouara']"
      ]
     },
     "execution_count": 22,
     "metadata": {},
     "output_type": "execute_result"
    }
   ],
   "source": [
    "rev_labels=[]\n",
    "for i ,k in enumerate(class_names_label.keys()):\n",
    "    rev_labels.append(k)\n",
    "rev_labels"
   ]
  },
  {
   "cell_type": "code",
   "execution_count": 67,
   "id": "5e21574f",
   "metadata": {},
   "outputs": [],
   "source": [
    "image = cv2.imread(\"6.jpg\")\n",
    "image = cv2.cvtColor(image, cv2.COLOR_BGR2RGB)\n",
    "image = cv2.resize(image, IMAGE_SIZE)\n",
    "image = image.reshape((1,224,224,3))"
   ]
  },
  {
   "cell_type": "code",
   "execution_count": 68,
   "id": "c9470468",
   "metadata": {},
   "outputs": [
    {
     "name": "stdout",
     "output_type": "stream",
     "text": [
      "7\n",
      "(array([7], dtype=int64),)\n"
     ]
    }
   ],
   "source": [
    "predict = model.predict(image)\n",
    "print(np.argmax(predict))\n",
    "arr=predict[0]\n",
    "index = np.where(arr == predict[0].max())\n",
    "\n",
    "print(index)"
   ]
  },
  {
   "cell_type": "code",
   "execution_count": 69,
   "id": "f26556be",
   "metadata": {},
   "outputs": [
    {
     "data": {
      "text/plain": [
       "'Palais Royal de Fes'"
      ]
     },
     "execution_count": 69,
     "metadata": {},
     "output_type": "execute_result"
    }
   ],
   "source": [
    "rev_labels[np.argmax(predict)-1]"
   ]
  },
  {
   "cell_type": "code",
   "execution_count": 66,
   "id": "e13734bc",
   "metadata": {},
   "outputs": [],
   "source": [
    "model.save('my_final_model.h5')"
   ]
  },
  {
   "cell_type": "code",
   "execution_count": null,
   "id": "6835b0c5",
   "metadata": {},
   "outputs": [],
   "source": []
  }
 ],
 "metadata": {
  "kernelspec": {
   "display_name": "Python 3 (ipykernel)",
   "language": "python",
   "name": "python3"
  },
  "language_info": {
   "codemirror_mode": {
    "name": "ipython",
    "version": 3
   },
   "file_extension": ".py",
   "mimetype": "text/x-python",
   "name": "python",
   "nbconvert_exporter": "python",
   "pygments_lexer": "ipython3",
   "version": "3.9.7"
  }
 },
 "nbformat": 4,
 "nbformat_minor": 5
}
