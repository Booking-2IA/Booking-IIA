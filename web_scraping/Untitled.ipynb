{
 "cells": [
  {
   "cell_type": "code",
   "execution_count": 142,
   "id": "dcb3b91a",
   "metadata": {},
   "outputs": [],
   "source": [
    "from selenium import webdriver \n",
    "from selenium.webdriver.common.by import By\n",
    "from selenium.webdriver.support.ui import Select\n",
    "from selenium.webdriver.common.keys import Keys\n",
    "import pandas as pd\n",
    "import time\n",
    "import csv"
   ]
  },
  {
   "cell_type": "code",
   "execution_count": 467,
   "id": "98714316",
   "metadata": {},
   "outputs": [
    {
     "name": "stderr",
     "output_type": "stream",
     "text": [
      "C:\\Users\\Cloud\\AppData\\Local\\Temp/ipykernel_14180/1745627023.py:3: DeprecationWarning: executable_path has been deprecated, please pass in a Service object\n",
      "  driver=webdriver.Chrome(path)\n"
     ]
    }
   ],
   "source": [
    "website='https://www.tripadvisor.fr/Hotels-g298348-El_Jadida_Casablanca_Settat-Hotels.html'\n",
    "path='https://drive.google.com/drive/folders/10Msnf-uK0Xp5jjdAbGvxDk5JPxQ6MESs?usp=share_link'\n",
    "driver=webdriver.Chrome(path)\n",
    "driver.get(website)"
   ]
  },
  {
   "cell_type": "code",
   "execution_count": 447,
   "id": "7ed074e3",
   "metadata": {},
   "outputs": [],
   "source": [
    "cont=\"tanger hotels\""
   ]
  },
  {
   "cell_type": "code",
   "execution_count": 468,
   "id": "af66937a",
   "metadata": {},
   "outputs": [],
   "source": [
    "#input_rech= driver.find_element(By.XPATH,'//form[@role=\"search\"]/input[@class=\"qjfqs _G B- z _J Cj R0\"]')\n",
    "#time.sleep(5)\n",
    "#input_rech.send_keys(cont)\n",
    "#input_rech.send_keys(Keys.ENTER)\n",
    "names=driver.find_elements(By.XPATH,'//div[@class=\"jsTLT F K\"]/div[@class=\"nBrpc Wd o W RSTby\"]')\n",
    "href=driver.find_elements(By.XPATH,'//div[@class=\"jsTLT F K\"]/a[@class=\"BMQDV _F G- wSSLS SwZTJ FGwzt ukgoS\"]')\n",
    "donnees=driver.find_elements(By.XPATH,'//div[@class=\"listing_title\"]/a[@class=\"property_title prominent \"]')\n",
    "donnees1=driver.find_elements(By.XPATH,'//div[@class=\"prw_rup prw_common_responsive_rating_and_review_count\"]/a[@class=\"review_count\"]')\n",
    "title=driver.find_elements(By.XPATH,'//div[@class=\"result-title\"]/span')"
   ]
  },
  {
   "cell_type": "code",
   "execution_count": 487,
   "id": "45a59daa",
   "metadata": {},
   "outputs": [],
   "source": [
    "nameHotel=[]\n",
    "adressHotel=[]\n",
    "telHotel=[]\n",
    "langHotel=[]\n",
    "webHotel=[]\n",
    "descpHotel=[]\n",
    "avontageHotel=[]\n",
    "procheHotel=[]\n",
    "airHotel=[]\n",
    "etoiHotel=[]"
   ]
  },
  {
   "cell_type": "code",
   "execution_count": 525,
   "id": "b196075b",
   "metadata": {
    "collapsed": true
   },
   "outputs": [
    {
     "name": "stderr",
     "output_type": "stream",
     "text": [
      "C:\\Users\\Cloud\\AppData\\Local\\Temp/ipykernel_14180/2445833328.py:5: DeprecationWarning: executable_path has been deprecated, please pass in a Service object\n",
      "  driver=webdriver.Chrome(path)\n"
     ]
    },
    {
     "name": "stdout",
     "output_type": "stream",
     "text": [
      "0\n",
      "1\n",
      "1\n",
      "1\n",
      "1\n",
      "0\n",
      "0\n",
      "1\n",
      "0\n",
      "0\n"
     ]
    }
   ],
   "source": [
    "ville=jdida\n",
    "for i in range(len(ville)):\n",
    "    website=ville[i][1]\n",
    "    path='https://drive.google.com/drive/folders/10Msnf-uK0Xp5jjdAbGvxDk5JPxQ6MESs?usp=share_link'\n",
    "    driver=webdriver.Chrome(path)\n",
    "    driver.get(website)\n",
    "    eto=driver.find_elements(By.XPATH,'//div[@class=\"euDRl _R MC S4 _a H\"]/span[@class=\"S2\"]')\n",
    "    print(len(eto))\n",
    "    if len(eto)!=0 :\n",
    "        etoiHotel.append(eto[0].find_element(By.TAG_NAME,\"svg\").get_attribute(\"aria-label\"))\n",
    "    else:\n",
    "        etoiHotel.append(\"null\")"
   ]
  },
  {
   "cell_type": "code",
   "execution_count": 473,
   "id": "a5d72d7b",
   "metadata": {
    "collapsed": true
   },
   "outputs": [
    {
     "name": "stdout",
     "output_type": "stream",
     "text": [
      "0\n"
     ]
    },
    {
     "name": "stderr",
     "output_type": "stream",
     "text": [
      "C:\\Users\\Cloud\\AppData\\Local\\Temp/ipykernel_14180/2534695568.py:14: DeprecationWarning: executable_path has been deprecated, please pass in a Service object\n",
      "  driver=webdriver.Chrome(path)\n"
     ]
    },
    {
     "name": "stdout",
     "output_type": "stream",
     "text": [
      "1\n",
      "2\n",
      "3\n",
      "4\n",
      "5\n",
      "6\n",
      "7\n",
      "8\n",
      "9\n"
     ]
    }
   ],
   "source": [
    "nameHotel=[]\n",
    "adressHotel=[]\n",
    "telHotel=[]\n",
    "langHotel=[]\n",
    "webHotel=[]\n",
    "descpHotel=[]\n",
    "avontageHotel=[]\n",
    "procheHotel=[]\n",
    "airHotel=[]\n",
    "for i in range(len(jdida)):\n",
    "    print(i)\n",
    "    website=jdida[i][1]\n",
    "    path='https://drive.google.com/drive/folders/10Msnf-uK0Xp5jjdAbGvxDk5JPxQ6MESs?usp=share_link'\n",
    "    driver=webdriver.Chrome(path)\n",
    "    driver.get(website)\n",
    "    time.sleep(5)\n",
    "    name=driver.find_elements(By.XPATH,'//div[@class=\"jvqAy\"]/h1[@class=\"QdLfr b d Pn\"]')\n",
    "    adresse=driver.find_elements(By.XPATH,'//span[@class=\"oAPmj _S YUQUy PTrfg\"]/span[@class=\"fHvkI PTrfg\"]')\n",
    "    tel=driver.find_elements(By.XPATH,'//div[@class=\"eeVey S4 H3 f u LGJIs\"]/a[@class=\"NFFeO _S ITocq NjUDn\"]')\n",
    "    lang=driver.find_elements(By.XPATH,'//div[@class=\"ssr-init-26f\"]/div[@class=\"euDRl _R MC S4 _a H\"]')\n",
    "    web=driver.find_elements(By.XPATH,'//div[@class=\"eeVey S4 H3 f u QkOyE\"]/a[@class=\"YnKZo Ci Wc _S C pInXB _S ITocq jNmfd\"]')\n",
    "    descp=driver.find_elements(By.XPATH,'//div[@class=\"_T FKffI IGtbc Ci oYqEM bmUTE\"]/div[@class=\"fIrGe _T\"]')\n",
    "    avontage=driver.find_elements(By.XPATH,'//div[@class=\"OsCbb K\"]/div[@class=\"yplav f ME H3 _c\"]')\n",
    "    proche=driver.find_elements(By.XPATH,'//div[@class=\"ui_column is-4 SdZtm f e\"]/a[@class=\"cpyVm _S I\"]/div[@class=\"sinXi\"]')\n",
    "    distance=driver.find_elements(By.XPATH,'//div[@class=\"znCKn v u K\"]/span')\n",
    "    proch_air=driver.find_elements(By.XPATH,'//div[span/@class=\"LbryB\"]')\n",
    "    time.sleep(2)\n",
    "    String=\"\"\n",
    "    for i in range(len(avontage)):\n",
    "        String=String+\", \"+avontage[i].text\n",
    "   \n",
    "    String2=\"\"\n",
    "    for i in range(len(proch_air)):\n",
    "        String2=String2+\", \"+proch_air[i].text\n",
    "    if len(name)!=0:\n",
    "        nameHotel.append(name[0].text)\n",
    "    else:\n",
    "        nameHotel.append(\"null\")\n",
    "    if len(adresse)!=0:\n",
    "        adressHotel.append(adresse[0].text)\n",
    "    else:\n",
    "        adressHotel.append(\"null\")\n",
    "    if len(lang)!=0:\n",
    "        langHotel.append(lang[0].text)\n",
    "    else:\n",
    "        langHotel.append(\"null\")\n",
    "    if len(tel)!=0:\n",
    "        telHotel.append(tel[0].get_attribute(\"href\"))\n",
    "    else:\n",
    "        telHotel.append(\"null\")\n",
    "\n",
    "    if len(web)!=0:\n",
    "        webHotel.append(web[0].get_attribute(\"href\"))\n",
    "    else:\n",
    "        webHotel.append(\"null\")\n",
    "    if len(descp)!=0:\n",
    "        descpHotel.append(descp[0].text)\n",
    "    else:\n",
    "        descpHotel.append(\"null\")\n",
    "    if len(avontage)!=0:\n",
    "        avontageHotel.append(String)\n",
    "    else:\n",
    "        avontageHotel.append(\"null\")\n",
    "\n",
    "    if len(proch_air)!=0:\n",
    "        airHotel.append(String2)\n",
    "    else:\n",
    "         airHotel.append(\"null\")\n",
    "    String1=\"\"\n",
    "    c=0\n",
    "    for i in range(int(len(distance)/3)):\n",
    "        String1=String1+\", \"+proche[i].text+\" \"+distance[c+1].text\n",
    "        c=c+3\n",
    "    if len(proche)!=0:\n",
    "        procheHotel.append(String1)\n",
    "    else:\n",
    "        procheHotel.append(\"null\")"
   ]
  },
  {
   "cell_type": "code",
   "execution_count": 238,
   "id": "52110122",
   "metadata": {},
   "outputs": [],
   "source": [
    "casa=[['1. Mövenpick Hotel Casablanca',\n",
    "  'https://www.tripadvisor.fr/Hotel_Review-g293732-d299161-Reviews-Movenpick_Hotel_Casablanca-Casablanca_Casablanca_Settat.html'],\n",
    " ['2. Sofitel Casablanca Tour Blanche',\n",
    "  'https://www.tripadvisor.fr/Hotel_Review-g293732-d2542825-Reviews-Sofitel_Casablanca_Tour_Blanche-Casablanca_Casablanca_Settat.html'],\n",
    " ['3. Barceló Anfa Casablanca',\n",
    "  'https://www.tripadvisor.fr/Hotel_Review-g293732-d15515018-Reviews-Barcelo_Anfa_Casablanca-Casablanca_Casablanca_Settat.html'],\n",
    " ['4. Four Seasons Hotel Casablanca',\n",
    "  'https://www.tripadvisor.fr/Hotel_Review-g293732-d8782614-Reviews-Four_Seasons_Hotel_Casablanca-Casablanca_Casablanca_Settat.html'],\n",
    " ['5. Hyatt Regency Casablanca',\n",
    "  'https://www.tripadvisor.fr/Hotel_Review-g293732-d303054-Reviews-Hyatt_Regency_Casablanca-Casablanca_Casablanca_Settat.html'],\n",
    " ['6. Radisson Blu Hotel, Casablanca City Center',\n",
    "  'https://www.tripadvisor.fr/Hotel_Review-g293732-d19267015-Reviews-Radisson_Blu_Hotel_Casablanca_City_Center-Casablanca_Casablanca_Settat.html'],\n",
    " ['7. MELLIBER Appart Hotel',\n",
    "  'https://www.tripadvisor.fr/Hotel_Review-g293732-d11550032-Reviews-MELLIBER_Appart_Hotel-Casablanca_Casablanca_Settat.html'],\n",
    " ['8. Kenzi Tower Hotel',\n",
    "  'https://www.tripadvisor.fr/Hotel_Review-g293732-d1071715-Reviews-Kenzi_Tower_Hotel-Casablanca_Casablanca_Settat.html'],\n",
    " ['9. Le Casablanca Hotel',\n",
    "  'https://www.tripadvisor.fr/Hotel_Review-g293732-d11953047-Reviews-Le_Casablanca_Hotel-Casablanca_Casablanca_Settat.html'],\n",
    " ['10. ONOMO Hotel Casablanca Airport',\n",
    "  'https://www.tripadvisor.fr/Hotel_Review-g293732-d17480161-Reviews-ONOMO_Hotel_Casablanca_Airport-Casablanca_Casablanca_Settat.html']]"
   ]
  },
  {
   "cell_type": "code",
   "execution_count": 460,
   "id": "77a078da",
   "metadata": {},
   "outputs": [],
   "source": [
    "tanger=[['1. Hilton Garden Inn Tanger City Center', 'https://www.tripadvisor.fr/Hotel_Review-g293737-d8672446-Reviews-Hilton_Garden_Inn_Tanger_City_Center-Tangier_Tanger_Tetouan_Al_Hoceima.html'],\n",
    "        ['2. Hilton Tangier Al Houara Resort & Spa', 'https://www.tripadvisor.fr/Hotel_Review-g293737-d15132641-Reviews-Hilton_Tangier_Al_Houara_Resort_Spa-Tangier_Tanger_Tetouan_Al_Hoceima.html'],\n",
    "        ['3. Marina Bay Tangier', 'https://www.tripadvisor.fr/Hotel_Review-g293737-d634705-Reviews-Marina_Bay_Tangier-Tangier_Tanger_Tetouan_Al_Hoceima.html'], \n",
    "        ['4. Hotel Royal Tulip City Center Tanger', 'https://www.tripadvisor.fr/Hotel_Review-g293737-d7378753-Reviews-Hotel_Royal_Tulip_City_Center_Tanger-Tangier_Tanger_Tetouan_Al_Hoceima.html'],\n",
    "        ['5. Palais Zahia', 'https://www.tripadvisor.fr/Hotel_Review-g293737-d13154884-Reviews-Palais_Zahia-Tangier_Tanger_Tetouan_Al_Hoceima.html'], \n",
    "        ['6. Hilton Tanger City Center Hotel & Residences', 'https://www.tripadvisor.fr/Hotel_Review-g293737-d12349332-Reviews-Hilton_Tanger_City_Center_Hotel_Residences-Tangier_Tanger_Tetouan_Al_Hoceima.html'],\n",
    "        ['7. Dar Chams Tanja', 'https://www.tripadvisor.fr/Hotel_Review-g293737-d1979128-Reviews-Dar_Chams_Tanja-Tangier_Tanger_Tetouan_Al_Hoceima.html'], \n",
    "        ['8. El Minzah Hotel', 'https://www.tripadvisor.fr/Hotel_Review-g293737-d305605-Reviews-El_Minzah_Hotel-Tangier_Tanger_Tetouan_Al_Hoceima.html'],\n",
    "        ['9. Pestana Tanger City Center', 'https://www.tripadvisor.fr/Hotel_Review-g293737-d23661836-Reviews-Pestana_Tanger_City_Center-Tangier_Tanger_Tetouan_Al_Hoceima.html']]"
   ]
  },
  {
   "cell_type": "code",
   "execution_count": 419,
   "id": "8a33fad9",
   "metadata": {},
   "outputs": [],
   "source": [
    "ifrane=[['1. Michlifen Resort & Golf', 'https://www.tripadvisor.fr/Hotel_Review-g298350-d301254-Reviews-Michlifen_Resort_Golf-Ifrane_Fes_Meknes.html'],\n",
    "        ['2. Zephyr Ifrane', 'https://www.tripadvisor.fr/Hotel_Review-g298350-d23525322-Reviews-Zephyr_Ifrane-Ifrane_Fes_Meknes.html'], \n",
    "        ['3. Rise In Valley', 'https://www.tripadvisor.fr/Hotel_Review-g298350-d10067655-Reviews-Rise_In_Valley-Ifrane_Fes_Meknes.html'], \n",
    "        ['4. Hôtel Perce Neige', 'https://www.tripadvisor.fr/Hotel_Review-g298350-d739089-Reviews-Hotel_Perce_Neige-Ifrane_Fes_Meknes.html'], \n",
    "        ['5. Auberge Tourtite', 'https://www.tripadvisor.fr/Hotel_Review-g298350-d1835018-Reviews-Auberge_Tourtite-Ifrane_Fes_Meknes.html'], \n",
    "        ['6. Gite du Barrage', 'https://www.tripadvisor.fr/Hotel_Review-g298350-d13555981-Reviews-Gite_du_Barrage-Ifrane_Fes_Meknes.html'],\n",
    "        ['7. Résidence Ifrane Palace', 'https://www.tripadvisor.fr/Hotel_Review-g298350-d6277953-Reviews-Residence_Ifrane_Palace-Ifrane_Fes_Meknes.html'],\n",
    "        [\"8. L'empreinte d'Ifrane\", 'https://www.tripadvisor.fr/Hotel_Review-g298350-d12612834-Reviews-L_empreinte_d_Ifrane-Ifrane_Fes_Meknes.html'], \n",
    "        [\"9. La Pommeraie d'Ifrane\", 'https://www.tripadvisor.fr/Hotel_Review-g298350-d12498107-Reviews-La_Pommeraie_d_Ifrane-Ifrane_Fes_Meknes.html'], \n",
    "        ['10. Farah Inn Hôtel & Resort','https://www.tripadvisor.fr/Hotel_Review-g298350-d3382246-Reviews-Farah_Inn_Hotel_Resort-Ifrane_Fes_Meknes.html']]"
   ]
  },
  {
   "cell_type": "code",
   "execution_count": 472,
   "id": "6fdbe54d",
   "metadata": {},
   "outputs": [],
   "source": [
    "jdida=[['Riad Dar EL Malaika', 'https://www.tripadvisor.fr/Hotel_Review-g298348-d14040366-Reviews-Riad_Dar_EL_Malaika-El_Jadida_Casablanca_Settat.html?spAttributionToken=MTkwODc4NDQ'],\n",
    "       ['1. Mazagan Beach & Golf Resort', 'https://www.tripadvisor.fr/Hotel_Review-g298348-d1532223-Reviews-Mazagan_Beach_Golf_Resort-El_Jadida_Casablanca_Settat.html'],\n",
    "       ['2. Pullman Mazagan Royal Golf & Spa', 'https://www.tripadvisor.fr/Hotel_Review-g298348-d299665-Reviews-Pullman_Mazagan_Royal_Golf_Spa-El_Jadida_Casablanca_Settat.html'],\n",
    "       ['3. ibis El Jadida Hotel', 'https://www.tripadvisor.fr/Hotel_Review-g298348-d572871-Reviews-Ibis_El_Jadida_Hotel-El_Jadida_Casablanca_Settat.html'],\n",
    "       [\"4. Riad Soleil d'Orient\", 'https://www.tripadvisor.fr/Hotel_Review-g298348-d1413717-Reviews-Riad_Soleil_d_Orient-El_Jadida_Casablanca_Settat.html'], ['5. Dar Del Mare', 'https://www.tripadvisor.fr/Hotel_Review-g298348-d1427117-Reviews-Dar_Del_Mare-El_Jadida_Casablanca_Settat.html'], ['Villa Aboulanwar', 'https://www.tripadvisor.fr/Hotel_Review-g298348-d10139883-Reviews-Villa_Aboulanwar-El_Jadida_Casablanca_Settat.html?spAttributionToken=MTgzODY2NDM'], [\"6. Maison d' Hotes de la Cite Portugaise d'El Jadida\", 'https://www.tripadvisor.fr/Hotel_Review-g298348-d672644-Reviews-Maison_d_Hotes_de_la_Cite_Portugaise_d_El_Jadida-El_Jadida_Casablanca_Settat.html'], [\"7. Hotel L'Iglesia\", 'https://www.tripadvisor.fr/Hotel_Review-g298348-d3567386-Reviews-L_Iglesia_El_Jadida-El_Jadida_Casablanca_Settat.html'],\n",
    "       ['8. Hotel Centre Ville', 'https://www.tripadvisor.fr/Hotel_Review-g298348-d14064044-Reviews-Hotel_Centre_Ville-El_Jadida_Casablanca_Settat.html']]"
   ]
  },
  {
   "cell_type": "code",
   "execution_count": 365,
   "id": "a62d2902",
   "metadata": {},
   "outputs": [],
   "source": [
    "rabat=[['1. Hotel Sofitel Rabat Jardin des Roses',\n",
    "  'https://www.tripadvisor.fr/Hotel_Review-g293736-d300677-Reviews-Hotel_Sofitel_Rabat_Jardin_des_Roses-Rabat_Rabat_Sale_Kenitra.html'],\n",
    " ['2. Ibis Rabat Agdal',\n",
    "  'https://www.tripadvisor.fr/Hotel_Review-g293736-d12283986-Reviews-Ibis_Rabat_Agdal-Rabat_Rabat_Sale_Kenitra.html'],\n",
    " ['3. Riad Zyo',\n",
    "  'https://www.tripadvisor.fr/Hotel_Review-g293736-d3724817-Reviews-Riad_Zyo-Rabat_Rabat_Sale_Kenitra.html'],\n",
    " ['4. Dar El Kebira',\n",
    "  'https://www.tripadvisor.fr/Hotel_Review-g293736-d1020735-Reviews-Dar_El_Kebira-Rabat_Rabat_Sale_Kenitra.html'],\n",
    " ['5. Hotel Le Diwan Rabat - MGallery',\n",
    "  'https://www.tripadvisor.fr/Hotel_Review-g293736-d299657-Reviews-Hotel_Le_Diwan_Rabat_MGallery-Rabat_Rabat_Sale_Kenitra.html'],\n",
    " ['6. Hôtel la Tour Hassan',\n",
    "  'https://www.tripadvisor.fr/Hotel_Review-g293736-d456085-Reviews-La_Tour_Hassan_Palace-Rabat_Rabat_Sale_Kenitra.html'],\n",
    " ['7. Le Pietri Urban Hotel',\n",
    "  'https://www.tripadvisor.fr/Hotel_Review-g293736-d654630-Reviews-Le_Pietri_Urban_Hotel-Rabat_Rabat_Sale_Kenitra.html'],\n",
    " ['8. Ibis Rabat Agdal',\n",
    "  'https://www.tripadvisor.fr/Hotel_Review-g293736-d299645-Reviews-Ibis_Rabat_Agdal-Rabat_Rabat_Sale_Kenitra.html'],\n",
    " ['9. Rabat Marriott Hotel',\n",
    "  'https://www.tripadvisor.fr/Hotel_Review-g293736-d23891194-Reviews-Rabat_Marriott_Hotel-Rabat_Rabat_Sale_Kenitra.html'],\n",
    " ['10. Riad Meftaha',\n",
    "  'https://www.tripadvisor.fr/Hotel_Review-g293736-d8474459-Reviews-Riad_Meftaha-Rabat_Rabat_Sale_Kenitra.html']]"
   ]
  },
  {
   "cell_type": "code",
   "execution_count": 372,
   "id": "2c592632",
   "metadata": {},
   "outputs": [],
   "source": [
    "agadir=[['1. Iberostar Founty Beach',\n",
    "  'https://www.tripadvisor.fr/Hotel_Review-g293731-d549638-Reviews-Iberostar_Founty_Beach-Agadir_Souss_Massa.html'],\n",
    " ['2. Allegro Agadir',\n",
    "  'https://www.tripadvisor.fr/Hotel_Review-g293731-d305567-Reviews-Allegro_Agadir-Agadir_Souss_Massa.html'],\n",
    " ['3. Hotel Riu Palace Tikida Agadir',\n",
    "  'https://www.tripadvisor.fr/Hotel_Review-g293731-d2649171-Reviews-Hotel_Riu_Palace_Tikida_Agadir-Agadir_Souss_Massa.html'],\n",
    " ['4. White Beach Resort Taghazout',\n",
    "  'https://www.tripadvisor.fr/Hotel_Review-g1452345-d21377950-Reviews-White_Beach_Resort_Taghazout-Tamraght_Agadir_Souss_Massa.html'],\n",
    " ['5. Hôtel Argana',\n",
    "  'https://www.tripadvisor.fr/Hotel_Review-g293731-d557096-Reviews-Hotel_Argana-Agadir_Souss_Massa.html'],\n",
    " [\"6. LABRANDA Les Dunes d'Or\",\n",
    "  'https://www.tripadvisor.fr/Hotel_Review-g293731-d950995-Reviews-LABRANDA_Les_Dunes_d_Or-Agadir_Souss_Massa.html'],\n",
    " ['7. Sofitel Agadir Thalassa Sea & Spa',\n",
    "  'https://www.tripadvisor.fr/Hotel_Review-g293731-d2573287-Reviews-Sofitel_Agadir_Thalassa_Sea_Spa-Agadir_Souss_Massa.html'],\n",
    " ['8. Atlas Amadil Beach Aqua Sun',\n",
    "  'https://www.tripadvisor.fr/Hotel_Review-g293731-d316609-Reviews-Atlas_Amadil_Beach_hotel-Agadir_Souss_Massa.html']]"
   ]
  },
  {
   "cell_type": "code",
   "execution_count": 377,
   "id": "fde115a2",
   "metadata": {},
   "outputs": [],
   "source": [
    "merrakech=[['1. Sol Oasis Marrakech',\n",
    "  'https://www.tripadvisor.fr/Hotel_Review-g293734-d19656581-Reviews-Sol_Oasis_Marrakech-Marrakech_Marrakech_Safi.html'],\n",
    " ['2. Movenpick Hotel Mansour Eddahbi Marrakech',\n",
    "  'https://www.tripadvisor.fr/Hotel_Review-g293734-d302479-Reviews-Movenpick_Hotel_Mansour_Eddahbi_Marrakech-Marrakech_Marrakech_Safi.html'],\n",
    " ['3. La Maison Arabe',\n",
    "  'https://www.tripadvisor.fr/Hotel_Review-g293734-d303075-Reviews-La_Maison_Arabe-Marrakech_Marrakech_Safi.html'],\n",
    " ['4. Aqua Fun Marrakech',\n",
    "  'https://www.tripadvisor.fr/Hotel_Review-g293734-d2177899-Reviews-Aqua_Fun_Club_Marrakech-Marrakech_Marrakech_Safi.html'],\n",
    " ['5. Kenzi Club Agdal Medina',\n",
    "  'https://www.tripadvisor.fr/Hotel_Review-g293734-d1941087-Reviews-Kenzi_Club_Agdal_Medina-Marrakech_Marrakech_Safi.html'],\n",
    " ['6. Iberostar Club Palmeraie Marrakech',\n",
    "  'https://www.tripadvisor.fr/Hotel_Review-g293734-d1053257-Reviews-Iberostar_Club_Palmeraie_Marrakech-Marrakech_Marrakech_Safi.html'],\n",
    " ['7. Be Live Collection Marrakech Adults Only',\n",
    "  'https://www.tripadvisor.fr/Hotel_Review-g293734-d12199882-Reviews-Be_Live_Collection_Marrakech_Adults_Only-Marrakech_Marrakech_Safi.html'],\n",
    " ['8. Valeria Dar Atlas Resort',\n",
    "  'https://www.tripadvisor.fr/Hotel_Review-g293734-d1744061-Reviews-Valeria_Dar_Atlas_Resort-Marrakech_Marrakech_Safi.html'],\n",
    " ['9. Aqua Mirage Club & Aqua Parc - All Inclusive',\n",
    "  'https://www.tripadvisor.fr/Hotel_Review-g293734-d7856438-Reviews-Aqua_Mirage_Marrakech_Hotel_Club-Marrakech_Marrakech_Safi.html'],\n",
    " ['10. Sofitel Marrakech Lounge & Spa Hotel',\n",
    "  'https://www.tripadvisor.fr/Hotel_Review-g293734-d299685-Reviews-Sofitel_Marrakech_Lounge_Spa_Hotel-Marrakech_Marrakech_Safi.html']]"
   ]
  },
  {
   "cell_type": "code",
   "execution_count": 398,
   "id": "10ad94ba",
   "metadata": {},
   "outputs": [],
   "source": [
    "fes=[['1. Riad Fes Maya Suite & Spa',\n",
    "  'https://www.tripadvisor.fr/Hotel_Review-g293733-d12420717-Reviews-Riad_Fes_Maya_Suite_Spa-Fes_Fes_Meknes.html'],\n",
    " ['2. Riad Laaroussa Hotel and Spa',\n",
    "  'https://www.tripadvisor.fr/Hotel_Review-g293733-d633231-Reviews-Riad_Laaroussa_Hotel_and_Spa-Fes_Fes_Meknes.html'],\n",
    " ['3. Hotel & Spa Riad Dar Bensouda',\n",
    "  'https://www.tripadvisor.fr/Hotel_Review-g293733-d1633299-Reviews-Hotel_Spa_Riad_Dar_Bensouda-Fes_Fes_Meknes.html'],\n",
    " ['4. Riad Verus',\n",
    "  'https://www.tripadvisor.fr/Hotel_Review-g293733-d1598548-Reviews-Riad_Verus-Fes_Fes_Meknes.html'],\n",
    " ['5. Dar Hafsa',\n",
    "  'https://www.tripadvisor.fr/Hotel_Review-g293733-d2042430-Reviews-Dar_Hafsa-Fes_Fes_Meknes.html'],\n",
    " ['6. Riad Layalina Fes',\n",
    "  'https://www.tripadvisor.fr/Hotel_Review-g293733-d1790113-Reviews-Riad_Layalina_Fez-Fes_Fes_Meknes.html'],\n",
    " ['7. Palais Faraj Suites & Spa',\n",
    "  'https://www.tripadvisor.fr/Hotel_Review-g293733-d2522605-Reviews-Palais_Faraj_Suites_Spa-Fes_Fes_Meknes.html'],\n",
    " ['8. Fes Marriott Hotel Jnan Palace',\n",
    "  'https://www.tripadvisor.fr/Hotel_Review-g293733-d10722142-Reviews-Fes_Marriott_Hotel_Jnan_Palace-Fes_Fes_Meknes.html']]"
   ]
  },
  {
   "cell_type": "code",
   "execution_count": 403,
   "id": "87b86e82",
   "metadata": {},
   "outputs": [],
   "source": [
    "meknes=[['1. Riad El Ma',\n",
    "  'https://www.tripadvisor.fr/Hotel_Review-g293735-d1444394-Reviews-Riad_El_Ma-Meknes_Fes_Meknes.html'],\n",
    " ['2. Dar Meknes Tresor',\n",
    "  'https://www.tripadvisor.fr/Hotel_Review-g293735-d17392339-Reviews-Dar_Meknes_Tresor-Meknes_Fes_Meknes.html'],\n",
    " [\"3. Riad d'Or\",\n",
    "  'https://www.tripadvisor.fr/Hotel_Review-g293735-d775784-Reviews-Riad_d_Or-Meknes_Fes_Meknes.html'],\n",
    " ['4. Riad Safir',\n",
    "  'https://www.tripadvisor.fr/Hotel_Review-g293735-d797411-Reviews-Riad_Safir-Meknes_Fes_Meknes.html'],\n",
    " ['5. Ryad Bab Berdaine',\n",
    "  'https://www.tripadvisor.fr/Hotel_Review-g293735-d3594882-Reviews-Ryad_Bab_Berdaine-Meknes_Fes_Meknes.html'],\n",
    " ['6. Riad Amazigh Meknes',\n",
    "  'https://www.tripadvisor.fr/Hotel_Review-g293735-d1600877-Reviews-Riad_Amazigh_Meknes-Meknes_Fes_Meknes.html'],\n",
    " ['7. Riad Zahraa',\n",
    "  'https://www.tripadvisor.fr/Hotel_Review-g293735-d1152898-Reviews-Riad_Zahraa-Meknes_Fes_Meknes.html'],\n",
    " ['8. Riad Lahboul',\n",
    "  'https://www.tripadvisor.fr/Hotel_Review-g293735-d1418994-Reviews-Riad_Lahboul-Meknes_Fes_Meknes.html'],\n",
    " ['9. Ibis Meknes Hotel',\n",
    "  'https://www.tripadvisor.fr/Hotel_Review-g293735-d299682-Reviews-Ibis_Meknes_Hotel-Meknes_Fes_Meknes.html']]"
   ]
  },
  {
   "cell_type": "code",
   "execution_count": 363,
   "id": "1e1e8bac",
   "metadata": {},
   "outputs": [],
   "source": [
    "list_names=[]\n",
    "list_adresse=[]\n",
    "list_tel=[]\n",
    "list_web=[]\n",
    "list_descp=[]\n",
    "list_aproche=[]\n",
    "list_air=[]\n",
    "list_lang=[]\n",
    "list_avantage=[]"
   ]
  },
  {
   "cell_type": "code",
   "execution_count": 476,
   "id": "6bce408f",
   "metadata": {},
   "outputs": [],
   "source": [
    "list_names=list_names+nameHotel\n",
    "list_adresse=list_adresse+adressHotel\n",
    "list_tel=list_tel+telHotel\n",
    "list_web=list_web+webHotel\n",
    "list_descp=list_descp+descpHotel\n",
    "list_aproche=list_aproche+procheHotel\n",
    "list_air=list_air+airHotel\n",
    "list_lang=list_lang+langHotel\n",
    "list_avantage=list_avantage+avontageHotel"
   ]
  },
  {
   "cell_type": "code",
   "execution_count": 531,
   "id": "4b0a2376",
   "metadata": {},
   "outputs": [],
   "source": [
    "df=pd.DataFrame({\"Nom\":list_names,\"Adresse\":list_adresse,\"Telephone\":list_tel,\"Site_web\":list_web,\"Description\":list_descp,\n",
    "                 \"Lieu_proche\":list_aproche,\"Airport\":list_air,\"Langue\":list_lang,\"Avantage\":list_avantage,\"Etoiles\":list_etoil})\n",
    "df.to_csv('Hotels_data.csv',index=True)"
   ]
  },
  {
   "cell_type": "code",
   "execution_count": 534,
   "id": "f8a51555",
   "metadata": {},
   "outputs": [
    {
     "name": "stdout",
     "output_type": "stream",
     "text": [
      "['Mövenpick Hotel Casablanca', 'Sofitel Casablanca Tour Blanche', 'Barceló Anfa Casablanca', 'Four Seasons Hotel Casablanca', 'Hyatt Regency Casablanca', 'Radisson Blu Hotel, Casablanca City Center', 'MELLIBER Appart Hotel', 'Kenzi Tower Hotel', 'Le Casablanca Hotel', 'ONOMO Hotel Casablanca Airport', 'Hotel Sofitel Rabat Jardin des Roses', 'Ibis Rabat Agdal', 'Riad Zyo', 'Dar El Kebira', 'Hotel Le Diwan Rabat - MGallery', 'Hôtel la Tour Hassan', 'Le Pietri Urban Hotel', 'Ibis Rabat Agdal', 'Rabat Marriott Hotel', 'Riad Meftaha', 'Iberostar Founty Beach', 'Allegro Agadir', 'Hotel Riu Palace Tikida Agadir', 'White Beach Resort Taghazout', 'Hôtel Argana', \"LABRANDA Les Dunes d'Or\", 'Sofitel Agadir Thalassa Sea & Spa', 'Atlas Amadil Beach Aqua Sun', 'Sol Oasis Marrakech', 'Movenpick Hotel Mansour Eddahbi Marrakech', 'La Maison Arabe', 'Aqua Fun Marrakech', 'Kenzi Club Agdal Medina', 'Iberostar Club Palmeraie Marrakech', 'Be Live Collection Marrakech Adults Only', 'Valeria Dar Atlas Resort', 'Aqua Mirage Club & Aqua Parc - All Inclusive', 'Riad Fes Maya Suite & Spa', 'Riad Laaroussa Hotel and Spa', 'Hotel & Spa Riad Dar Bensouda', 'Riad Verus', 'Dar Hafsa', 'Riad Layalina Fes', 'Palais Faraj Suites & Spa', 'Fes Marriott Hotel Jnan Palace', 'Riad El Ma', 'Dar Meknes Tresor', \"Riad d'Or\", 'Riad Safir', 'Ryad Bab Berdaine', 'Riad Amazigh Meknes', 'Riad Zahraa', 'Riad Lahboul', 'Ibis Meknes Hotel', 'Michlifen Resort & Golf', 'Zephyr Ifrane', 'Rise In Valley', 'Hôtel Perce Neige', 'Auberge Tourtite', 'Gite du Barrage', 'Résidence Ifrane Palace', \"L'empreinte d'Ifrane\", \"La Pommeraie d'Ifrane\", 'Farah Inn Hôtel & Resort', 'Hilton Garden Inn Tanger City Center', 'Hilton Tangier Al Houara Resort & Spa', 'Marina Bay Tangier', 'Hotel Royal Tulip City Center Tanger', 'Palais Zahia', 'Hilton Tanger City Center Hotel & Residences', 'Dar Chams Tanja', 'El Minzah Hotel', 'Pestana Tanger City Center', 'Riad Dar EL Malaika', 'Mazagan Beach & Golf Resort', 'Pullman Mazagan Royal Golf & Spa', 'ibis El Jadida Hotel', \"Riad Soleil d'Orient\", 'Dar Del Mare', 'Villa Aboulanwar', \"Maison d' Hotes de la Cite Portugaise d'El Jadida\", \"Hotel L'Iglesia\", 'Hotel Centre Ville']\n"
     ]
    }
   ],
   "source": [
    "print(list_names)"
   ]
  },
  {
   "cell_type": "code",
   "execution_count": 535,
   "id": "51d7ebc8",
   "metadata": {},
   "outputs": [],
   "source": [
    "df.to_excel('output1.xlsx')  "
   ]
  },
  {
   "cell_type": "code",
   "execution_count": null,
   "id": "d9a494bc",
   "metadata": {},
   "outputs": [],
   "source": []
  }
 ],
 "metadata": {
  "kernelspec": {
   "display_name": "Python 3 (ipykernel)",
   "language": "python",
   "name": "python3"
  },
  "language_info": {
   "codemirror_mode": {
    "name": "ipython",
    "version": 3
   },
   "file_extension": ".py",
   "mimetype": "text/x-python",
   "name": "python",
   "nbconvert_exporter": "python",
   "pygments_lexer": "ipython3",
   "version": "3.9.7"
  }
 },
 "nbformat": 4,
 "nbformat_minor": 5
}
